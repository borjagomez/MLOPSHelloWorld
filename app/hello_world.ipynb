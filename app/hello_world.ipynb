{
 "cells": [
  {
   "cell_type": "code",
   "execution_count": 2,
   "metadata": {},
   "outputs": [
    {
     "ename": "AttributeError",
     "evalue": "module 'matplotlib' has no attribute 'get_data_path'",
     "output_type": "error",
     "traceback": [
      "\u001b[0;31m---------------------------------------------------------------------------\u001b[0m",
      "\u001b[0;31mAttributeError\u001b[0m                            Traceback (most recent call last)",
      "\u001b[1;32m/Users/borjarever/development/MLOPS/MLOPSHelloWorld/app/hello_world.ipynb Cell 1'\u001b[0m in \u001b[0;36m<cell line: 3>\u001b[0;34m()\u001b[0m\n\u001b[1;32m      <a href='vscode-notebook-cell:/Users/borjarever/development/MLOPS/MLOPSHelloWorld/app/hello_world.ipynb#ch0000000?line=0'>1</a>\u001b[0m \u001b[39mimport\u001b[39;00m \u001b[39mpandas\u001b[39;00m \u001b[39mas\u001b[39;00m \u001b[39mpd\u001b[39;00m\n\u001b[1;32m      <a href='vscode-notebook-cell:/Users/borjarever/development/MLOPS/MLOPSHelloWorld/app/hello_world.ipynb#ch0000000?line=1'>2</a>\u001b[0m \u001b[39mimport\u001b[39;00m \u001b[39mnumpy\u001b[39;00m \u001b[39mas\u001b[39;00m \u001b[39mnp\u001b[39;00m\n\u001b[0;32m----> <a href='vscode-notebook-cell:/Users/borjarever/development/MLOPS/MLOPSHelloWorld/app/hello_world.ipynb#ch0000000?line=2'>3</a>\u001b[0m \u001b[39mimport\u001b[39;00m \u001b[39mmatplotlib\u001b[39;00m\u001b[39m.\u001b[39;00m\u001b[39mpyplot\u001b[39;00m \u001b[39mas\u001b[39;00m \u001b[39mplt\u001b[39;00m\n",
      "File \u001b[0;32m~/miniconda/envs/mlops-course/lib/python3.8/site-packages/matplotlib/__init__.py:877\u001b[0m, in \u001b[0;36m<module>\u001b[0;34m\u001b[0m\n\u001b[1;32m    <a href='file:///Users/borjarever/miniconda/envs/mlops-course/lib/python3.8/site-packages/matplotlib/__init__.py?line=869'>870</a>\u001b[0m     \u001b[39mreturn\u001b[39;00m config\n\u001b[1;32m    <a href='file:///Users/borjarever/miniconda/envs/mlops-course/lib/python3.8/site-packages/matplotlib/__init__.py?line=872'>873</a>\u001b[0m \u001b[39m# When constructing the global instances, we need to perform certain updates\u001b[39;00m\n\u001b[1;32m    <a href='file:///Users/borjarever/miniconda/envs/mlops-course/lib/python3.8/site-packages/matplotlib/__init__.py?line=873'>874</a>\u001b[0m \u001b[39m# by explicitly calling the superclass (dict.update, dict.items) to avoid\u001b[39;00m\n\u001b[1;32m    <a href='file:///Users/borjarever/miniconda/envs/mlops-course/lib/python3.8/site-packages/matplotlib/__init__.py?line=874'>875</a>\u001b[0m \u001b[39m# triggering resolution of _auto_backend_sentinel.\u001b[39;00m\n\u001b[1;32m    <a href='file:///Users/borjarever/miniconda/envs/mlops-course/lib/python3.8/site-packages/matplotlib/__init__.py?line=875'>876</a>\u001b[0m rcParamsDefault \u001b[39m=\u001b[39m _rc_params_in_file(\n\u001b[0;32m--> <a href='file:///Users/borjarever/miniconda/envs/mlops-course/lib/python3.8/site-packages/matplotlib/__init__.py?line=876'>877</a>\u001b[0m     cbook\u001b[39m.\u001b[39;49m_get_data_path(\u001b[39m\"\u001b[39;49m\u001b[39mmatplotlibrc\u001b[39;49m\u001b[39m\"\u001b[39;49m),\n\u001b[1;32m    <a href='file:///Users/borjarever/miniconda/envs/mlops-course/lib/python3.8/site-packages/matplotlib/__init__.py?line=877'>878</a>\u001b[0m     \u001b[39m# Strip leading comment.\u001b[39;00m\n\u001b[1;32m    <a href='file:///Users/borjarever/miniconda/envs/mlops-course/lib/python3.8/site-packages/matplotlib/__init__.py?line=878'>879</a>\u001b[0m     transform\u001b[39m=\u001b[39m\u001b[39mlambda\u001b[39;00m line: line[\u001b[39m1\u001b[39m:] \u001b[39mif\u001b[39;00m line\u001b[39m.\u001b[39mstartswith(\u001b[39m\"\u001b[39m\u001b[39m#\u001b[39m\u001b[39m\"\u001b[39m) \u001b[39melse\u001b[39;00m line,\n\u001b[1;32m    <a href='file:///Users/borjarever/miniconda/envs/mlops-course/lib/python3.8/site-packages/matplotlib/__init__.py?line=879'>880</a>\u001b[0m     fail_on_error\u001b[39m=\u001b[39m\u001b[39mTrue\u001b[39;00m)\n\u001b[1;32m    <a href='file:///Users/borjarever/miniconda/envs/mlops-course/lib/python3.8/site-packages/matplotlib/__init__.py?line=880'>881</a>\u001b[0m \u001b[39mdict\u001b[39m\u001b[39m.\u001b[39mupdate(rcParamsDefault, rcsetup\u001b[39m.\u001b[39m_hardcoded_defaults)\n\u001b[1;32m    <a href='file:///Users/borjarever/miniconda/envs/mlops-course/lib/python3.8/site-packages/matplotlib/__init__.py?line=881'>882</a>\u001b[0m \u001b[39m# Normally, the default matplotlibrc file contains *no* entry for backend (the\u001b[39;00m\n\u001b[1;32m    <a href='file:///Users/borjarever/miniconda/envs/mlops-course/lib/python3.8/site-packages/matplotlib/__init__.py?line=882'>883</a>\u001b[0m \u001b[39m# corresponding line starts with ##, not #; we fill on _auto_backend_sentinel\u001b[39;00m\n\u001b[1;32m    <a href='file:///Users/borjarever/miniconda/envs/mlops-course/lib/python3.8/site-packages/matplotlib/__init__.py?line=883'>884</a>\u001b[0m \u001b[39m# in that case.  However, packagers can set a different default backend\u001b[39;00m\n\u001b[1;32m    <a href='file:///Users/borjarever/miniconda/envs/mlops-course/lib/python3.8/site-packages/matplotlib/__init__.py?line=884'>885</a>\u001b[0m \u001b[39m# (resulting in a normal `#backend: foo` line) in which case we should *not*\u001b[39;00m\n\u001b[1;32m    <a href='file:///Users/borjarever/miniconda/envs/mlops-course/lib/python3.8/site-packages/matplotlib/__init__.py?line=885'>886</a>\u001b[0m \u001b[39m# fill in _auto_backend_sentinel.\u001b[39;00m\n",
      "File \u001b[0;32m~/miniconda/envs/mlops-course/lib/python3.8/site-packages/matplotlib/cbook/__init__.py:518\u001b[0m, in \u001b[0;36m_get_data_path\u001b[0;34m(*args)\u001b[0m\n\u001b[1;32m    <a href='file:///Users/borjarever/miniconda/envs/mlops-course/lib/python3.8/site-packages/matplotlib/cbook/__init__.py?line=511'>512</a>\u001b[0m \u001b[39mdef\u001b[39;00m \u001b[39m_get_data_path\u001b[39m(\u001b[39m*\u001b[39margs):\n\u001b[1;32m    <a href='file:///Users/borjarever/miniconda/envs/mlops-course/lib/python3.8/site-packages/matplotlib/cbook/__init__.py?line=512'>513</a>\u001b[0m     \u001b[39m\"\"\"\u001b[39;00m\n\u001b[1;32m    <a href='file:///Users/borjarever/miniconda/envs/mlops-course/lib/python3.8/site-packages/matplotlib/cbook/__init__.py?line=513'>514</a>\u001b[0m \u001b[39m    Return the `pathlib.Path` to a resource file provided by Matplotlib.\u001b[39;00m\n\u001b[1;32m    <a href='file:///Users/borjarever/miniconda/envs/mlops-course/lib/python3.8/site-packages/matplotlib/cbook/__init__.py?line=514'>515</a>\u001b[0m \n\u001b[1;32m    <a href='file:///Users/borjarever/miniconda/envs/mlops-course/lib/python3.8/site-packages/matplotlib/cbook/__init__.py?line=515'>516</a>\u001b[0m \u001b[39m    ``*args`` specify a path relative to the base data path.\u001b[39;00m\n\u001b[1;32m    <a href='file:///Users/borjarever/miniconda/envs/mlops-course/lib/python3.8/site-packages/matplotlib/cbook/__init__.py?line=516'>517</a>\u001b[0m \u001b[39m    \"\"\"\u001b[39;00m\n\u001b[0;32m--> <a href='file:///Users/borjarever/miniconda/envs/mlops-course/lib/python3.8/site-packages/matplotlib/cbook/__init__.py?line=517'>518</a>\u001b[0m     \u001b[39mreturn\u001b[39;00m Path(matplotlib\u001b[39m.\u001b[39;49mget_data_path(), \u001b[39m*\u001b[39margs)\n",
      "File \u001b[0;32m~/miniconda/envs/mlops-course/lib/python3.8/site-packages/matplotlib/_api/__init__.py:222\u001b[0m, in \u001b[0;36mcaching_module_getattr.<locals>.__getattr__\u001b[0;34m(name)\u001b[0m\n\u001b[1;32m    <a href='file:///Users/borjarever/miniconda/envs/mlops-course/lib/python3.8/site-packages/matplotlib/_api/__init__.py?line=219'>220</a>\u001b[0m \u001b[39mif\u001b[39;00m name \u001b[39min\u001b[39;00m props:\n\u001b[1;32m    <a href='file:///Users/borjarever/miniconda/envs/mlops-course/lib/python3.8/site-packages/matplotlib/_api/__init__.py?line=220'>221</a>\u001b[0m     \u001b[39mreturn\u001b[39;00m props[name]\u001b[39m.\u001b[39m\u001b[39m__get__\u001b[39m(instance)\n\u001b[0;32m--> <a href='file:///Users/borjarever/miniconda/envs/mlops-course/lib/python3.8/site-packages/matplotlib/_api/__init__.py?line=221'>222</a>\u001b[0m \u001b[39mraise\u001b[39;00m \u001b[39mAttributeError\u001b[39;00m(\n\u001b[1;32m    <a href='file:///Users/borjarever/miniconda/envs/mlops-course/lib/python3.8/site-packages/matplotlib/_api/__init__.py?line=222'>223</a>\u001b[0m     \u001b[39mf\u001b[39m\u001b[39m\"\u001b[39m\u001b[39mmodule \u001b[39m\u001b[39m{\u001b[39;00m\u001b[39mcls\u001b[39m\u001b[39m.\u001b[39m\u001b[39m__module__\u001b[39m\u001b[39m!r}\u001b[39;00m\u001b[39m has no attribute \u001b[39m\u001b[39m{\u001b[39;00mname\u001b[39m!r}\u001b[39;00m\u001b[39m\"\u001b[39m)\n",
      "\u001b[0;31mAttributeError\u001b[0m: module 'matplotlib' has no attribute 'get_data_path'"
     ]
    }
   ],
   "source": [
    "import pandas as pd\n",
    "import numpy as np\n",
    "import matplotlib.pyplot as plt"
   ]
  },
  {
   "cell_type": "code",
   "execution_count": null,
   "metadata": {},
   "outputs": [],
   "source": [
    "np.random.seed(0)\n",
    "\n",
    "values = np.random.randn(100)\n",
    "s = pd.Series(values)\n",
    "s.plot(kind='hist', title='Normal dist')\n",
    "plt.show()\n"
   ]
  }
 ],
 "metadata": {
  "interpreter": {
   "hash": "3c260e9bcb3c031095eff1e07585a8177f98387a492756005975c925550880fd"
  },
  "kernelspec": {
   "display_name": "Python 3.8.12 ('mlops-course')",
   "language": "python",
   "name": "python3"
  },
  "language_info": {
   "codemirror_mode": {
    "name": "ipython",
    "version": 3
   },
   "file_extension": ".py",
   "mimetype": "text/x-python",
   "name": "python",
   "nbconvert_exporter": "python",
   "pygments_lexer": "ipython3",
   "version": "3.8.12"
  },
  "orig_nbformat": 4
 },
 "nbformat": 4,
 "nbformat_minor": 2
}
